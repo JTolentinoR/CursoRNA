{
 "cells": [
  {
   "cell_type": "code",
   "execution_count": 156,
   "id": "3f29720e",
   "metadata": {
    "tags": []
   },
   "outputs": [],
   "source": [
    "import math\n",
    "import numpy as np\n",
    "import matplotlib.pyplot as plt\n",
    "\n",
    "import tensorflow as tf\n",
    "from tensorflow import keras"
   ]
  },
  {
   "cell_type": "code",
   "execution_count": 157,
   "id": "3f3e6be3",
   "metadata": {
    "tags": []
   },
   "outputs": [],
   "source": [
    "loss_tracker = keras.metrics.Mean(name=\"loss\")\n",
    "\n",
    "class Funsol(keras.Model):\n",
    "    @property\n",
    "    def metrics(self):\n",
    "        return [loss_tracker] # define como llamar a la metrica en model.fit(metrics)\n",
    "\n",
    "    def train_step(self, data):\n",
    "        batch_size = 10\n",
    "        x = tf.random.uniform((batch_size, ), minval=-1, maxval=1)\n",
    "        y = 1 + 2*x + 4*x**3\n",
    "\n",
    "        with tf.GradientTape() as tape:\n",
    "            y_pred = self(x, training=True)\n",
    "            loss = keras.losses.mean_squared_error(y_pred, y)\n",
    "\n",
    "        grads = tape.gradient(loss, self.trainable_weights)\n",
    "        self.optimizer.apply_gradients(zip(grads, self.trainable_weights))\n",
    "        loss_tracker.update_state(loss)   # actualiza metricas\n",
    "\n",
    "        return {\"loss\": loss_tracker.result()}"
   ]
  },
  {
   "cell_type": "code",
   "execution_count": 158,
   "id": "f8506694",
   "metadata": {
    "tags": []
   },
   "outputs": [],
   "source": [
    "class SinTransform(tf.keras.layers.Layer):\n",
    "    def __init__(self, num_outputs):\n",
    "        super().__init__()\n",
    "        self.num_outputs = num_outputs\n",
    "        self.freq = tf.range(1., self.num_outputs + 1)\n",
    "        self.kernel = self.add_weight(\"kernel\", shape=[self.num_outputs])\n",
    "\n",
    "    def call(self, inputs):\n",
    "        inputs = tf.convert_to_tensor(inputs)\n",
    "        \n",
    "        if (inputs.shape == ()):\n",
    "            inputs=(inputs, )\n",
    "        elif (len(inputs.shape) == 1):\n",
    "            inputs = tf.expand_dims(inputs, axis=1)\n",
    "            \n",
    "        batch = tf.shape(inputs)[0]\n",
    "        self.freq_b = tf.ones([batch, 1])*self.freq\n",
    "        args = self.freq_b * inputs\n",
    "        modes = tf.math.sin(args)\n",
    "        \n",
    "        # the corresponding transformation for the polynomial using sin function\n",
    "        return 1 + tf.tensordot(modes, self.kernel, 1) + tf.tensordot(modes**3, self.kernel, 1)"
   ]
  },
  {
   "cell_type": "code",
   "execution_count": 159,
   "id": "db0ad471",
   "metadata": {
    "tags": []
   },
   "outputs": [
    {
     "name": "stdout",
     "output_type": "stream",
     "text": [
      "tf.Tensor([ 0.12722969 -0.09182572  0.60565686  0.42897582  0.9705081 ], shape=(5,), dtype=float32)\n",
      "tf.Tensor([1.1459355  0.89533573 1.8532443  1.5522537  2.5699925 ], shape=(5,), dtype=float32)\n"
     ]
    }
   ],
   "source": [
    "# just to see that the layer works\n",
    "layer = SinTransform(1)\n",
    "x = tf.random.uniform([5], minval=-1., maxval=1.)\n",
    "result = layer(x)\n",
    "print(x)\n",
    "print(result)"
   ]
  },
  {
   "cell_type": "code",
   "execution_count": 166,
   "id": "bcca72d0",
   "metadata": {
    "scrolled": true,
    "tags": []
   },
   "outputs": [
    {
     "name": "stdout",
     "output_type": "stream",
     "text": [
      "Model: \"funsol_29\"\n",
      "_________________________________________________________________\n",
      " Layer (type)                Output Shape              Param #   \n",
      "=================================================================\n",
      " input_32 (InputLayer)       [(None, 1)]               0         \n",
      "                                                                 \n",
      " sin_transform_7 (SinTransf  (None,)                   3         \n",
      " orm)                                                            \n",
      "                                                                 \n",
      "=================================================================\n",
      "Total params: 3 (12.00 Byte)\n",
      "Trainable params: 3 (12.00 Byte)\n",
      "Non-trainable params: 0 (0.00 Byte)\n",
      "_________________________________________________________________\n"
     ]
    }
   ],
   "source": [
    "# model definition\n",
    "inputs = keras.Input((1,))\n",
    "x = SinTransform(3)(inputs)\n",
    "model = Funsol(inputs, x)\n",
    "model.summary()"
   ]
  },
  {
   "cell_type": "code",
   "execution_count": 161,
   "id": "b7f02bd7",
   "metadata": {
    "tags": []
   },
   "outputs": [],
   "source": [
    "# train data\n",
    "x_train = tf.linspace(-1, 1, 100)"
   ]
  },
  {
   "cell_type": "code",
   "execution_count": 167,
   "id": "5e17c60c",
   "metadata": {
    "tags": []
   },
   "outputs": [
    {
     "name": "stdout",
     "output_type": "stream",
     "text": [
      "Epoch 1/50\n",
      "4/4 - 0s - loss: 3.1047 - 190ms/epoch - 48ms/step\n",
      "Epoch 2/50\n",
      "4/4 - 0s - loss: 4.0530 - 6ms/epoch - 2ms/step\n",
      "Epoch 3/50\n",
      "4/4 - 0s - loss: 2.4663 - 6ms/epoch - 2ms/step\n",
      "Epoch 4/50\n",
      "4/4 - 0s - loss: 3.0248 - 8ms/epoch - 2ms/step\n",
      "Epoch 5/50\n",
      "4/4 - 0s - loss: 2.5945 - 6ms/epoch - 1ms/step\n",
      "Epoch 6/50\n",
      "4/4 - 0s - loss: 2.7916 - 7ms/epoch - 2ms/step\n",
      "Epoch 7/50\n",
      "4/4 - 0s - loss: 2.1152 - 7ms/epoch - 2ms/step\n",
      "Epoch 8/50\n",
      "4/4 - 0s - loss: 1.7811 - 7ms/epoch - 2ms/step\n",
      "Epoch 9/50\n",
      "4/4 - 0s - loss: 1.2202 - 6ms/epoch - 2ms/step\n",
      "Epoch 10/50\n",
      "4/4 - 0s - loss: 1.7640 - 8ms/epoch - 2ms/step\n",
      "Epoch 11/50\n",
      "4/4 - 0s - loss: 1.2061 - 8ms/epoch - 2ms/step\n",
      "Epoch 12/50\n",
      "4/4 - 0s - loss: 1.8064 - 9ms/epoch - 2ms/step\n",
      "Epoch 13/50\n",
      "4/4 - 0s - loss: 1.2333 - 6ms/epoch - 2ms/step\n",
      "Epoch 14/50\n",
      "4/4 - 0s - loss: 1.4561 - 8ms/epoch - 2ms/step\n",
      "Epoch 15/50\n",
      "4/4 - 0s - loss: 0.5216 - 7ms/epoch - 2ms/step\n",
      "Epoch 16/50\n",
      "4/4 - 0s - loss: 1.1048 - 7ms/epoch - 2ms/step\n",
      "Epoch 17/50\n",
      "4/4 - 0s - loss: 0.9080 - 8ms/epoch - 2ms/step\n",
      "Epoch 18/50\n",
      "4/4 - 0s - loss: 1.2835 - 7ms/epoch - 2ms/step\n",
      "Epoch 19/50\n",
      "4/4 - 0s - loss: 1.3348 - 8ms/epoch - 2ms/step\n",
      "Epoch 20/50\n",
      "4/4 - 0s - loss: 1.3158 - 7ms/epoch - 2ms/step\n",
      "Epoch 21/50\n",
      "4/4 - 0s - loss: 1.1747 - 7ms/epoch - 2ms/step\n",
      "Epoch 22/50\n",
      "4/4 - 0s - loss: 0.5978 - 7ms/epoch - 2ms/step\n",
      "Epoch 23/50\n",
      "4/4 - 0s - loss: 0.8302 - 8ms/epoch - 2ms/step\n",
      "Epoch 24/50\n",
      "4/4 - 0s - loss: 0.9651 - 7ms/epoch - 2ms/step\n",
      "Epoch 25/50\n",
      "4/4 - 0s - loss: 0.8551 - 7ms/epoch - 2ms/step\n",
      "Epoch 26/50\n",
      "4/4 - 0s - loss: 1.0746 - 6ms/epoch - 1ms/step\n",
      "Epoch 27/50\n",
      "4/4 - 0s - loss: 0.7885 - 8ms/epoch - 2ms/step\n",
      "Epoch 28/50\n",
      "4/4 - 0s - loss: 0.5414 - 7ms/epoch - 2ms/step\n",
      "Epoch 29/50\n",
      "4/4 - 0s - loss: 0.8611 - 7ms/epoch - 2ms/step\n",
      "Epoch 30/50\n",
      "4/4 - 0s - loss: 0.5874 - 8ms/epoch - 2ms/step\n",
      "Epoch 31/50\n",
      "4/4 - 0s - loss: 0.4796 - 6ms/epoch - 2ms/step\n",
      "Epoch 32/50\n",
      "4/4 - 0s - loss: 0.6238 - 6ms/epoch - 2ms/step\n",
      "Epoch 33/50\n",
      "4/4 - 0s - loss: 0.6960 - 7ms/epoch - 2ms/step\n",
      "Epoch 34/50\n",
      "4/4 - 0s - loss: 0.4403 - 6ms/epoch - 2ms/step\n",
      "Epoch 35/50\n",
      "4/4 - 0s - loss: 0.4056 - 6ms/epoch - 1ms/step\n",
      "Epoch 36/50\n",
      "4/4 - 0s - loss: 0.3303 - 9ms/epoch - 2ms/step\n",
      "Epoch 37/50\n",
      "4/4 - 0s - loss: 0.5285 - 9ms/epoch - 2ms/step\n",
      "Epoch 38/50\n",
      "4/4 - 0s - loss: 0.2877 - 13ms/epoch - 3ms/step\n",
      "Epoch 39/50\n",
      "4/4 - 0s - loss: 0.4323 - 9ms/epoch - 2ms/step\n",
      "Epoch 40/50\n",
      "4/4 - 0s - loss: 0.5553 - 7ms/epoch - 2ms/step\n",
      "Epoch 41/50\n",
      "4/4 - 0s - loss: 0.2200 - 8ms/epoch - 2ms/step\n",
      "Epoch 42/50\n",
      "4/4 - 0s - loss: 0.1932 - 9ms/epoch - 2ms/step\n",
      "Epoch 43/50\n",
      "4/4 - 0s - loss: 0.4805 - 6ms/epoch - 2ms/step\n",
      "Epoch 44/50\n",
      "4/4 - 0s - loss: 0.1181 - 8ms/epoch - 2ms/step\n",
      "Epoch 45/50\n",
      "4/4 - 0s - loss: 0.3734 - 11ms/epoch - 3ms/step\n",
      "Epoch 46/50\n",
      "4/4 - 0s - loss: 0.4891 - 7ms/epoch - 2ms/step\n",
      "Epoch 47/50\n",
      "4/4 - 0s - loss: 0.2170 - 8ms/epoch - 2ms/step\n",
      "Epoch 48/50\n",
      "4/4 - 0s - loss: 0.3908 - 7ms/epoch - 2ms/step\n",
      "Epoch 49/50\n",
      "4/4 - 0s - loss: 0.1641 - 7ms/epoch - 2ms/step\n",
      "Epoch 50/50\n",
      "4/4 - 0s - loss: 0.1630 - 8ms/epoch - 2ms/step\n"
     ]
    }
   ],
   "source": [
    "# training\n",
    "model.compile(optimizer=\"sgd\", metrics=[\"loss\"])\n",
    "history = model.fit(x_train, epochs=50, verbose=2)\n",
    "model.save('polynomial.hdf5')"
   ]
  },
  {
   "cell_type": "code",
   "execution_count": 168,
   "id": "97d30223",
   "metadata": {
    "scrolled": true,
    "tags": []
   },
   "outputs": [
    {
     "name": "stdout",
     "output_type": "stream",
     "text": [
      "4/4 [==============================] - 0s 3ms/step\n"
     ]
    },
    {
     "data": {
      "image/png": "[encoded data removed]",
      "text/plain": [
       "<Figure size 640x480 with 1 Axes>"
      ]
     },
     "metadata": {},
     "output_type": "display_data"
    }
   ],
   "source": [
    "x_test = tf.linspace(-1, 1, 100)\n",
    "predictions = model.predict(x_test)\n",
    "plt.plot(x_test, predictions, color=\"red\", label='numerical')\n",
    "plt.plot(x_test, 1 + 2*x_test + 4*x_test**3, color=\"black\", label='analytical')\n",
    "plt.legend()\n",
    "plt.show()"
   ]
  }
 ],
 "metadata": {
  "kernelspec": {
   "display_name": "Python 3 (ipykernel)",
   "language": "python",
   "name": "python3"
  },
  "language_info": {
   "codemirror_mode": {
    "name": "ipython",
    "version": 3
   },
   "file_extension": ".py",
   "mimetype": "text/x-python",
   "name": "python",
   "nbconvert_exporter": "python",
   "pygments_lexer": "ipython3",
   "version": "3.11.5"
  }
 },
 "nbformat": 4,
 "nbformat_minor": 5
}

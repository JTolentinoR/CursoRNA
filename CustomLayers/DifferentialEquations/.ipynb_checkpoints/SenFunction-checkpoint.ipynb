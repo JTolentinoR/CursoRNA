{
 "cells": [
  {
   "cell_type": "code",
   "execution_count": 18,
   "id": "3f29720e",
   "metadata": {
    "tags": []
   },
   "outputs": [],
   "source": [
    "import math\n",
    "import numpy as np\n",
    "import matplotlib.pyplot as plt\n",
    "\n",
    "import tensorflow as tf\n",
    "from tensorflow import keras"
   ]
  },
  {
   "cell_type": "code",
   "execution_count": 19,
   "id": "3f3e6be3",
   "metadata": {
    "tags": []
   },
   "outputs": [],
   "source": [
    "loss_tracker = keras.metrics.Mean(name=\"loss\")\n",
    "\n",
    "class Funsol(keras.Model):\n",
    "    @property\n",
    "    def metrics(self):\n",
    "        return [loss_tracker] # define como llamar a la metrica en model.fit(metrics)\n",
    "\n",
    "    def train_step(self, data):\n",
    "        batch_size = 10\n",
    "        x = tf.random.uniform((batch_size, ), minval=-1, maxval=1)\n",
    "        y = 3*tf.math.sin(math.pi*x)\n",
    "\n",
    "        with tf.GradientTape() as tape:\n",
    "            y_pred = self(x, training=True)\n",
    "            loss = keras.losses.mean_squared_error(y_pred, y)\n",
    "\n",
    "        grads = tape.gradient(loss, self.trainable_weights)\n",
    "        self.optimizer.apply_gradients(zip(grads, self.trainable_weights))\n",
    "        loss_tracker.update_state(loss)   # actualiza metricas\n",
    "\n",
    "        return {\"loss\": loss_tracker.result()}"
   ]
  },
  {
   "cell_type": "code",
   "execution_count": 20,
   "id": "f8506694",
   "metadata": {
    "tags": []
   },
   "outputs": [],
   "source": [
    "class SinTransform(tf.keras.layers.Layer):\n",
    "    def __init__(self, num_outputs):\n",
    "        super().__init__()\n",
    "        self.num_outputs = num_outputs\n",
    "        self.freq = tf.range(1., self.num_outputs + 1)\n",
    "        self.kernel = self.add_weight(\"kernel\", shape=[self.num_outputs])\n",
    "\n",
    "    def call(self, inputs):\n",
    "        inputs = tf.convert_to_tensor(inputs)\n",
    "        \n",
    "        if (inputs.shape == ()):\n",
    "            inputs=(inputs, )\n",
    "        elif (len(inputs.shape) == 1):\n",
    "            inputs = tf.expand_dims(inputs, axis=1)\n",
    "            \n",
    "        batch = tf.shape(inputs)[0]\n",
    "        self.freq_b = tf.ones([batch, 1])*self.freq\n",
    "        args = self.freq_b * inputs\n",
    "        modes = tf.math.sin(args)\n",
    "        return tf.tensordot(modes, self.kernel, 1)"
   ]
  },
  {
   "cell_type": "code",
   "execution_count": 21,
   "id": "db0ad471",
   "metadata": {
    "tags": []
   },
   "outputs": [
    {
     "name": "stdout",
     "output_type": "stream",
     "text": [
      "tf.Tensor([-0.0064919   0.14043713  0.7627785   0.28410792  0.5371151 ], shape=(5,), dtype=float32)\n",
      "tf.Tensor([ 0.00381032 -0.08215732 -0.40553528 -0.1645197  -0.30031282], shape=(5,), dtype=float32)\n"
     ]
    }
   ],
   "source": [
    "# just to see that the layer works, still not training anything\n",
    "trans_layer = SinTransform(1)\n",
    "x = tf.random.uniform([5], minval=-1., maxval=1.)\n",
    "print(x)\n",
    "result = trans_layer(x)\n",
    "print(result)"
   ]
  },
  {
   "cell_type": "code",
   "execution_count": 22,
   "id": "bcca72d0",
   "metadata": {
    "scrolled": true,
    "tags": []
   },
   "outputs": [
    {
     "name": "stdout",
     "output_type": "stream",
     "text": [
      "Model: \"funsol_2\"\n",
      "_________________________________________________________________\n",
      " Layer (type)                Output Shape              Param #   \n",
      "=================================================================\n",
      " input_6 (InputLayer)        [(None, 1)]               0         \n",
      "                                                                 \n",
      " sin_transform_8 (SinTransf  (None,)                   6         \n",
      " orm)                                                            \n",
      "                                                                 \n",
      "=================================================================\n",
      "Total params: 6 (24.00 Byte)\n",
      "Trainable params: 6 (24.00 Byte)\n",
      "Non-trainable params: 0 (0.00 Byte)\n",
      "_________________________________________________________________\n"
     ]
    }
   ],
   "source": [
    "# model definition\n",
    "inputs = keras.Input((1,))\n",
    "x = SinTransform(6)(inputs)\n",
    "model = Funsol(inputs, x)\n",
    "model.summary()"
   ]
  },
  {
   "cell_type": "code",
   "execution_count": 23,
   "id": "b7f02bd7",
   "metadata": {
    "tags": []
   },
   "outputs": [],
   "source": [
    "# train data\n",
    "x_train = tf.linspace(-1, 1, 100)"
   ]
  },
  {
   "cell_type": "code",
   "execution_count": 26,
   "id": "5e17c60c",
   "metadata": {
    "tags": []
   },
   "outputs": [
    {
     "name": "stdout",
     "output_type": "stream",
     "text": [
      "Epoch 1/50\n",
      "4/4 - 0s - loss: 0.0246 - 155ms/epoch - 39ms/step\n",
      "Epoch 2/50\n",
      "4/4 - 0s - loss: 0.0450 - 5ms/epoch - 1ms/step\n",
      "Epoch 3/50\n",
      "4/4 - 0s - loss: 0.0326 - 7ms/epoch - 2ms/step\n",
      "Epoch 4/50\n",
      "4/4 - 0s - loss: 0.0475 - 7ms/epoch - 2ms/step\n",
      "Epoch 5/50\n",
      "4/4 - 0s - loss: 0.0201 - 7ms/epoch - 2ms/step\n",
      "Epoch 6/50\n",
      "4/4 - 0s - loss: 0.0320 - 7ms/epoch - 2ms/step\n",
      "Epoch 7/50\n",
      "4/4 - 0s - loss: 0.0371 - 6ms/epoch - 2ms/step\n",
      "Epoch 8/50\n",
      "4/4 - 0s - loss: 0.0281 - 7ms/epoch - 2ms/step\n",
      "Epoch 9/50\n",
      "4/4 - 0s - loss: 0.0310 - 5ms/epoch - 1ms/step\n",
      "Epoch 10/50\n",
      "4/4 - 0s - loss: 0.0355 - 6ms/epoch - 1ms/step\n",
      "Epoch 11/50\n",
      "4/4 - 0s - loss: 0.0301 - 6ms/epoch - 1ms/step\n",
      "Epoch 12/50\n",
      "4/4 - 0s - loss: 0.0302 - 5ms/epoch - 1ms/step\n",
      "Epoch 13/50\n",
      "4/4 - 0s - loss: 0.0226 - 6ms/epoch - 1ms/step\n",
      "Epoch 14/50\n",
      "4/4 - 0s - loss: 0.0111 - 5ms/epoch - 1ms/step\n",
      "Epoch 15/50\n",
      "4/4 - 0s - loss: 0.0239 - 5ms/epoch - 1ms/step\n",
      "Epoch 16/50\n",
      "4/4 - 0s - loss: 0.0176 - 6ms/epoch - 1ms/step\n",
      "Epoch 17/50\n",
      "4/4 - 0s - loss: 0.0207 - 5ms/epoch - 1ms/step\n",
      "Epoch 18/50\n",
      "4/4 - 0s - loss: 0.0225 - 5ms/epoch - 1ms/step\n",
      "Epoch 19/50\n",
      "4/4 - 0s - loss: 0.0401 - 6ms/epoch - 1ms/step\n",
      "Epoch 20/50\n",
      "4/4 - 0s - loss: 0.0184 - 7ms/epoch - 2ms/step\n",
      "Epoch 21/50\n",
      "4/4 - 0s - loss: 0.0197 - 6ms/epoch - 1ms/step\n",
      "Epoch 22/50\n",
      "4/4 - 0s - loss: 0.0359 - 7ms/epoch - 2ms/step\n",
      "Epoch 23/50\n",
      "4/4 - 0s - loss: 0.0461 - 5ms/epoch - 1ms/step\n",
      "Epoch 24/50\n",
      "4/4 - 0s - loss: 0.0242 - 6ms/epoch - 1ms/step\n",
      "Epoch 25/50\n",
      "4/4 - 0s - loss: 0.0347 - 6ms/epoch - 1ms/step\n",
      "Epoch 26/50\n",
      "4/4 - 0s - loss: 0.0444 - 6ms/epoch - 1ms/step\n",
      "Epoch 27/50\n",
      "4/4 - 0s - loss: 0.0164 - 7ms/epoch - 2ms/step\n",
      "Epoch 28/50\n",
      "4/4 - 0s - loss: 0.0177 - 7ms/epoch - 2ms/step\n",
      "Epoch 29/50\n",
      "4/4 - 0s - loss: 0.0149 - 8ms/epoch - 2ms/step\n",
      "Epoch 30/50\n",
      "4/4 - 0s - loss: 0.0258 - 6ms/epoch - 2ms/step\n",
      "Epoch 31/50\n",
      "4/4 - 0s - loss: 0.0306 - 7ms/epoch - 2ms/step\n",
      "Epoch 32/50\n",
      "4/4 - 0s - loss: 0.0145 - 6ms/epoch - 2ms/step\n",
      "Epoch 33/50\n",
      "4/4 - 0s - loss: 0.0282 - 7ms/epoch - 2ms/step\n",
      "Epoch 34/50\n",
      "4/4 - 0s - loss: 0.0171 - 11ms/epoch - 3ms/step\n",
      "Epoch 35/50\n",
      "4/4 - 0s - loss: 0.0110 - 10ms/epoch - 2ms/step\n",
      "Epoch 36/50\n",
      "4/4 - 0s - loss: 0.0137 - 7ms/epoch - 2ms/step\n",
      "Epoch 37/50\n",
      "4/4 - 0s - loss: 0.0201 - 7ms/epoch - 2ms/step\n",
      "Epoch 38/50\n",
      "4/4 - 0s - loss: 0.0234 - 5ms/epoch - 1ms/step\n",
      "Epoch 39/50\n",
      "4/4 - 0s - loss: 0.0164 - 9ms/epoch - 2ms/step\n",
      "Epoch 40/50\n",
      "4/4 - 0s - loss: 0.0135 - 6ms/epoch - 1ms/step\n",
      "Epoch 41/50\n",
      "4/4 - 0s - loss: 0.0198 - 7ms/epoch - 2ms/step\n",
      "Epoch 42/50\n",
      "4/4 - 0s - loss: 0.0171 - 5ms/epoch - 1ms/step\n",
      "Epoch 43/50\n",
      "4/4 - 0s - loss: 0.0217 - 6ms/epoch - 1ms/step\n",
      "Epoch 44/50\n",
      "4/4 - 0s - loss: 0.0246 - 6ms/epoch - 2ms/step\n",
      "Epoch 45/50\n",
      "4/4 - 0s - loss: 0.0194 - 7ms/epoch - 2ms/step\n",
      "Epoch 46/50\n",
      "4/4 - 0s - loss: 0.0200 - 5ms/epoch - 1ms/step\n",
      "Epoch 47/50\n",
      "4/4 - 0s - loss: 0.0144 - 6ms/epoch - 2ms/step\n",
      "Epoch 48/50\n",
      "4/4 - 0s - loss: 0.0201 - 6ms/epoch - 2ms/step\n",
      "Epoch 49/50\n",
      "4/4 - 0s - loss: 0.0298 - 5ms/epoch - 1ms/step\n",
      "Epoch 50/50\n",
      "4/4 - 0s - loss: 0.0089 - 7ms/epoch - 2ms/step\n"
     ]
    },
    {
     "name": "stderr",
     "output_type": "stream",
     "text": [
      "/home/dynamix/anaconda3/lib/python3.11/site-packages/keras/src/engine/training.py:3079: UserWarning: You are saving your model as an HDF5 file via `model.save()`. This file format is considered legacy. We recommend using instead the native Keras format, e.g. `model.save('my_model.keras')`.\n",
      "  saving_api.save_model(\n"
     ]
    }
   ],
   "source": [
    "# training\n",
    "model.compile(optimizer=\"SGD\", metrics=[\"loss\"])\n",
    "history = model.fit(x_train, epochs=50, verbose=2)\n",
    "model.save('sin.hdf5')"
   ]
  },
  {
   "cell_type": "code",
   "execution_count": 27,
   "id": "97d30223",
   "metadata": {
    "scrolled": true,
    "tags": []
   },
   "outputs": [
    {
     "name": "stdout",
     "output_type": "stream",
     "text": [
      "4/4 [==============================] - 0s 2ms/step\n"
     ]
    },
    {
     "data": {
      "image/png": "[encoded data removed]",
      "text/plain": [
       "<Figure size 640x480 with 1 Axes>"
      ]
     },
     "metadata": {},
     "output_type": "display_data"
    }
   ],
   "source": [
    "x_test = tf.linspace(-1, 1, 100)\n",
    "predictions = model.predict(x_test)\n",
    "plt.plot(x_test, predictions, color=\"red\", label='predicted')\n",
    "plt.plot(x_test, 3*tf.math.sin(math.pi*x_test), color=\"black\", label='real function')\n",
    "plt.legend()\n",
    "plt.show()"
   ]
  }
 ],
 "metadata": {
  "kernelspec": {
   "display_name": "Python 3 (ipykernel)",
   "language": "python",
   "name": "python3"
  },
  "language_info": {
   "codemirror_mode": {
    "name": "ipython",
    "version": 3
   },
   "file_extension": ".py",
   "mimetype": "text/x-python",
   "name": "python",
   "nbconvert_exporter": "python",
   "pygments_lexer": "ipython3",
   "version": "3.11.5"
  }
 },
 "nbformat": 4,
 "nbformat_minor": 5
}

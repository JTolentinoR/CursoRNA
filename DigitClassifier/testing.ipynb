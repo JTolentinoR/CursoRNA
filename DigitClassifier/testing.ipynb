{
 "cells": [
  {
   "cell_type": "code",
   "execution_count": 1,
   "id": "e5e3c438",
   "metadata": {},
   "outputs": [],
   "source": [
    "import import_ipynb"
   ]
  },
  {
   "cell_type": "code",
   "execution_count": 2,
   "id": "22abb54a",
   "metadata": {},
   "outputs": [
    {
     "name": "stdout",
     "output_type": "stream",
     "text": [
      "importing Jupyter notebook from mnist_loader.ipynb\n",
      "importing Jupyter notebook from network.ipynb\n"
     ]
    }
   ],
   "source": [
    "import mnist_loader\n",
    "import network\n",
    "import pickle"
   ]
  },
  {
   "cell_type": "code",
   "execution_count": 3,
   "id": "f73c1287",
   "metadata": {},
   "outputs": [],
   "source": [
    "training_data, validation_data, test_data = mnist_loader.load_data_wrapper()\n",
    "training_data = list(training_data)"
   ]
  },
  {
   "cell_type": "code",
   "execution_count": 4,
   "id": "be741485",
   "metadata": {},
   "outputs": [
    {
     "name": "stdout",
     "output_type": "stream",
     "text": [
      "Epoch 0 : 8746 / 10000\n",
      "Epoch 1 : 9013 / 10000\n",
      "Epoch 2 : 9165 / 10000\n",
      "Epoch 3 : 9217 / 10000\n",
      "Epoch 4 : 9263 / 10000\n",
      "Epoch 5 : 9321 / 10000\n",
      "Epoch 6 : 9339 / 10000\n",
      "Epoch 7 : 9350 / 10000\n",
      "Epoch 8 : 9355 / 10000\n",
      "Epoch 9 : 9364 / 10000\n",
      "Epoch 10 : 9400 / 10000\n",
      "Epoch 11 : 9393 / 10000\n",
      "Epoch 12 : 9410 / 10000\n",
      "Epoch 13 : 9422 / 10000\n",
      "Epoch 14 : 9423 / 10000\n",
      "Epoch 15 : 9421 / 10000\n",
      "Epoch 16 : 9436 / 10000\n",
      "Epoch 17 : 9425 / 10000\n",
      "Epoch 18 : 9439 / 10000\n",
      "Epoch 19 : 9466 / 10000\n",
      "Epoch 20 : 9448 / 10000\n",
      "Epoch 21 : 9451 / 10000\n",
      "Epoch 22 : 9468 / 10000\n",
      "Epoch 23 : 9452 / 10000\n",
      "Epoch 24 : 9473 / 10000\n",
      "Epoch 25 : 9478 / 10000\n",
      "Epoch 26 : 9477 / 10000\n",
      "Epoch 27 : 9476 / 10000\n",
      "Epoch 28 : 9488 / 10000\n",
      "Epoch 29 : 9465 / 10000\n"
     ]
    }
   ],
   "source": [
    "net = network.Network([784, 30, 10])\n",
    "net.SGD(training_data, 30, 10, 1, test_data=test_data)"
   ]
  },
  {
   "cell_type": "code",
   "execution_count": null,
   "id": "0e14b5be",
   "metadata": {},
   "outputs": [],
   "source": [
    "with open('my-net.pkl', 'wb') as file1:    #save parameters w and b\n",
    "    pickle.dump(net, file1)\n",
    "\n",
    "file1 = open('my-net', 'rb')         #load parameters\n",
    "net2 = pickle.load(file2)\n",
    "\n",
    "# a = flatten(image)\n",
    "# result = net.feeddforward(a)"
   ]
  }
 ],
 "metadata": {
  "kernelspec": {
   "display_name": "Python 3 (ipykernel)",
   "language": "python",
   "name": "python3"
  },
  "language_info": {
   "codemirror_mode": {
    "name": "ipython",
    "version": 3
   },
   "file_extension": ".py",
   "mimetype": "text/x-python",
   "name": "python",
   "nbconvert_exporter": "python",
   "pygments_lexer": "ipython3",
   "version": "3.10.9"
  }
 },
 "nbformat": 4,
 "nbformat_minor": 5
}

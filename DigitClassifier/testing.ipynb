{
 "cells": [
  {
   "cell_type": "markdown",
   "id": "b363af58",
   "metadata": {},
   "source": [
    "### Modules "
   ]
  },
  {
   "cell_type": "code",
   "execution_count": 1,
   "id": "e5e3c438",
   "metadata": {},
   "outputs": [],
   "source": [
    "import import_ipynb  # import_ipynb allows importing external jupyter notebooks as modules"
   ]
  },
  {
   "cell_type": "code",
   "execution_count": 2,
   "id": "22abb54a",
   "metadata": {},
   "outputs": [
    {
     "name": "stdout",
     "output_type": "stream",
     "text": [
      "importing Jupyter notebook from mnist_loader.ipynb\n",
      "importing Jupyter notebook from network.ipynb\n"
     ]
    }
   ],
   "source": [
    "import mnist_loader  # module that loads the database\n",
    "import network       # module that defines ANN, SGD, and Backpropagation algorithm\n",
    "import pickle        # module used for serialization of the images"
   ]
  },
  {
   "cell_type": "markdown",
   "id": "11d0c977",
   "metadata": {},
   "source": [
    "### Load of training, test and validation data from mnist database"
   ]
  },
  {
   "cell_type": "code",
   "execution_count": 3,
   "id": "f73c1287",
   "metadata": {},
   "outputs": [],
   "source": [
    "training_data, validation_data, test_data = mnist_loader.load_data_wrapper() \n",
    "training_data = list(training_data)"
   ]
  },
  {
   "cell_type": "markdown",
   "id": "015b208f",
   "metadata": {},
   "source": [
    "### Example of a network"
   ]
  },
  {
   "cell_type": "code",
   "execution_count": 5,
   "id": "be741485",
   "metadata": {},
   "outputs": [
    {
     "name": "stdout",
     "output_type": "stream",
     "text": [
      "Epoch 0 : 6869 / 10000\n",
      "Epoch 1 : 8090 / 10000\n",
      "Epoch 2 : 8253 / 10000\n",
      "Epoch 3 : 8333 / 10000\n",
      "Epoch 4 : 8346 / 10000\n",
      "Epoch 5 : 8373 / 10000\n",
      "Epoch 6 : 8386 / 10000\n",
      "Epoch 7 : 9249 / 10000\n",
      "Epoch 8 : 9315 / 10000\n",
      "Epoch 9 : 9317 / 10000\n",
      "Epoch 10 : 9326 / 10000\n",
      "Epoch 11 : 9324 / 10000\n",
      "Epoch 12 : 9340 / 10000\n",
      "Epoch 13 : 9350 / 10000\n",
      "Epoch 14 : 9361 / 10000\n",
      "Epoch 15 : 9373 / 10000\n",
      "Epoch 16 : 9387 / 10000\n",
      "Epoch 17 : 9393 / 10000\n",
      "Epoch 18 : 9397 / 10000\n",
      "Epoch 19 : 9392 / 10000\n",
      "Epoch 20 : 9424 / 10000\n",
      "Epoch 21 : 9400 / 10000\n",
      "Epoch 22 : 9413 / 10000\n",
      "Epoch 23 : 9414 / 10000\n",
      "Epoch 24 : 9419 / 10000\n",
      "Epoch 25 : 9426 / 10000\n",
      "Epoch 26 : 9412 / 10000\n",
      "Epoch 27 : 9413 / 10000\n",
      "Epoch 28 : 9430 / 10000\n",
      "Epoch 29 : 9426 / 10000\n"
     ]
    }
   ],
   "source": [
    "# initialization of a 3 layer network; 784 entries in input layer, 30 neurons in hidden layer and 10 neurons in output layer\n",
    "net = network.Network([784, 30, 10])\n",
    "\n",
    "# training of the network with 30 epochs, mini-batch's of size 10 and learning rate = 1\n",
    "net.SGD(training_data, 30, 10, 1, test_data=test_data)"
   ]
  },
  {
   "cell_type": "code",
   "execution_count": null,
   "id": "4b7f09aa",
   "metadata": {},
   "outputs": [],
   "source": [
    "with open('my-net.pkl', 'wb') as file1:  # save parameters w and b\n",
    "    pickle.dump(net, file1)\n",
    "\n",
    "file1 = open('my-net', 'rb')         # load parameters\n",
    "net2 = pickle.load(file2)\n",
    "\n",
    "# a = flatten(image)\n",
    "# result = net.feeddforward(a)"
   ]
  }
 ],
 "metadata": {
  "kernelspec": {
   "display_name": "Python 3 (ipykernel)",
   "language": "python",
   "name": "python3"
  },
  "language_info": {
   "codemirror_mode": {
    "name": "ipython",
    "version": 3
   },
   "file_extension": ".py",
   "mimetype": "text/x-python",
   "name": "python",
   "nbconvert_exporter": "python",
   "pygments_lexer": "ipython3",
   "version": "3.10.9"
  }
 },
 "nbformat": 4,
 "nbformat_minor": 5
}

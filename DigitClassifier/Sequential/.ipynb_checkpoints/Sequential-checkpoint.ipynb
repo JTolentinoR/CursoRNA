{
 "cells": [
  {
   "cell_type": "code",
   "execution_count": 1,
   "id": "2688ca7a",
   "metadata": {},
   "outputs": [],
   "source": [
    "# mlflow tracking\n",
    "import mlflow\n",
    "mlflow.tensorflow.autolog()"
   ]
  },
  {
   "cell_type": "code",
   "execution_count": 2,
   "id": "bebb9679",
   "metadata": {},
   "outputs": [],
   "source": [
    "# ml libraries\n",
    "from tensorflow.keras.datasets import mnist\n",
    "from tensorflow.keras.models import Sequential\n",
    "from tensorflow.keras.layers import Flatten, Dense\n",
    "from tensorflow.keras.optimizers import SGD\n",
    "from tensorflow.keras.callbacks import ModelCheckpoint, EarlyStopping"
   ]
  },
  {
   "cell_type": "code",
   "execution_count": 3,
   "id": "9ae85cdc",
   "metadata": {},
   "outputs": [],
   "source": [
    "# parameters\n",
    "parameters = {\n",
    "    'learning_rate':0.01,\n",
    "    'momentum':0.1,\n",
    "    'beta1':0.5,\n",
    "    'beta2':0.5,\n",
    "    'epochs':20,\n",
    "    'batch_size':10,\n",
    "    'loss':'sparse_categorical_crossentropy'\n",
    "             }"
   ]
  },
  {
   "cell_type": "code",
   "execution_count": 4,
   "id": "c0127da4",
   "metadata": {},
   "outputs": [],
   "source": [
    "# defining train and test data from mnist dataset\n",
    "(x_train, y_train), (x_test, y_test) = mnist.load_data()\n",
    "x_train = x_train.reshape(60000, 28, 28)\n",
    "x_test = x_test.reshape(10000, 28, 28)\n",
    "\n",
    "x_train, x_test = x_train/225, x_test/225"
   ]
  },
  {
   "cell_type": "code",
   "execution_count": 5,
   "id": "6ba2f8f0",
   "metadata": {},
   "outputs": [
    {
     "name": "stdout",
     "output_type": "stream",
     "text": [
      "Model: \"sequential\"\n",
      "_________________________________________________________________\n",
      " Layer (type)                Output Shape              Param #   \n",
      "=================================================================\n",
      " flatten (Flatten)           (None, 784)               0         \n",
      "                                                                 \n",
      " dense (Dense)               (None, 100)               78500     \n",
      "                                                                 \n",
      " dense_1 (Dense)             (None, 50)                5050      \n",
      "                                                                 \n",
      " dense_2 (Dense)             (None, 10)                510       \n",
      "                                                                 \n",
      " dense_3 (Dense)             (None, 10)                110       \n",
      "                                                                 \n",
      "=================================================================\n",
      "Total params: 84170 (328.79 KB)\n",
      "Trainable params: 84170 (328.79 KB)\n",
      "Non-trainable params: 0 (0.00 Byte)\n",
      "_________________________________________________________________\n"
     ]
    }
   ],
   "source": [
    "# model body\n",
    "model = Sequential()\n",
    "model.add(Flatten(input_shape=(28, 28)))\n",
    "model.add(Dense(100, activation='relu'))\n",
    "model.add(Dense(50, activation='relu'))\n",
    "model.add(Dense(10, activation='tanh'))\n",
    "model.add(Dense(10, activation='softmax'))\n",
    "\n",
    "model.summary()"
   ]
  },
  {
   "cell_type": "code",
   "execution_count": 6,
   "id": "0d024a44",
   "metadata": {},
   "outputs": [],
   "source": [
    "# compiling model\n",
    "SGDM = SGD(learning_rate=parameters['learning_rate'], momentum=parameters['momentum'])\n",
    "model.compile(optimizer=SGDM, loss=parameters['loss'], metrics=['accuracy'])"
   ]
  },
  {
   "cell_type": "code",
   "execution_count": 7,
   "id": "c3d38263",
   "metadata": {},
   "outputs": [
    {
     "name": "stderr",
     "output_type": "stream",
     "text": [
      "2023/09/25 19:02:07 INFO mlflow.utils.autologging_utils: Created MLflow autologging run with ID '759b6367338e4503aa3c4c53b405b2da', which will track hyperparameters, performance metrics, model artifacts, and lineage information for the current tensorflow workflow\n"
     ]
    },
    {
     "name": "stdout",
     "output_type": "stream",
     "text": [
      "Epoch 1/20\n",
      "   1/6000 [..............................] - ETA: 1:10:27 - loss: 2.3310 - accuracy: 0.1000WARNING:tensorflow:Callback method `on_train_batch_end` is slow compared to the batch time (batch time: 0.0025s vs `on_train_batch_end` time: 0.0032s). Check your callbacks.\n",
      "6000/6000 [==============================] - 19s 3ms/step - loss: 0.4996 - accuracy: 0.8745 - val_loss: 0.2351 - val_accuracy: 0.9421\n",
      "Epoch 2/20\n",
      "6000/6000 [==============================] - 18s 3ms/step - loss: 0.1862 - accuracy: 0.9518 - val_loss: 0.1673 - val_accuracy: 0.9554\n",
      "Epoch 3/20\n",
      "6000/6000 [==============================] - 18s 3ms/step - loss: 0.1298 - accuracy: 0.9658 - val_loss: 0.1340 - val_accuracy: 0.9615\n",
      "Epoch 4/20\n",
      "6000/6000 [==============================] - 18s 3ms/step - loss: 0.1017 - accuracy: 0.9724 - val_loss: 0.1228 - val_accuracy: 0.9640\n",
      "Epoch 5/20\n",
      "6000/6000 [==============================] - 18s 3ms/step - loss: 0.0821 - accuracy: 0.9774 - val_loss: 0.1065 - val_accuracy: 0.9694\n",
      "Epoch 6/20\n",
      "6000/6000 [==============================] - 18s 3ms/step - loss: 0.0693 - accuracy: 0.9806 - val_loss: 0.0969 - val_accuracy: 0.9722\n",
      "Epoch 7/20\n",
      "6000/6000 [==============================] - 18s 3ms/step - loss: 0.0590 - accuracy: 0.9844 - val_loss: 0.0956 - val_accuracy: 0.9726\n",
      "Epoch 8/20\n",
      "6000/6000 [==============================] - 18s 3ms/step - loss: 0.0515 - accuracy: 0.9863 - val_loss: 0.0989 - val_accuracy: 0.9727\n",
      "Epoch 9/20\n",
      "6000/6000 [==============================] - 18s 3ms/step - loss: 0.0437 - accuracy: 0.9885 - val_loss: 0.0904 - val_accuracy: 0.9733\n",
      "Epoch 10/20\n",
      "6000/6000 [==============================] - 18s 3ms/step - loss: 0.0387 - accuracy: 0.9898 - val_loss: 0.0867 - val_accuracy: 0.9750\n",
      "Epoch 11/20\n",
      "6000/6000 [==============================] - 18s 3ms/step - loss: 0.0340 - accuracy: 0.9912 - val_loss: 0.0896 - val_accuracy: 0.9751\n",
      "Epoch 12/20\n",
      "6000/6000 [==============================] - 18s 3ms/step - loss: 0.0287 - accuracy: 0.9927 - val_loss: 0.0923 - val_accuracy: 0.9763\n",
      "Epoch 13/20\n",
      "6000/6000 [==============================] - 19s 3ms/step - loss: 0.0252 - accuracy: 0.9935 - val_loss: 0.0886 - val_accuracy: 0.9733\n",
      "Epoch 14/20\n",
      "6000/6000 [==============================] - 19s 3ms/step - loss: 0.0218 - accuracy: 0.9949 - val_loss: 0.0850 - val_accuracy: 0.9760\n",
      "Epoch 15/20\n",
      "6000/6000 [==============================] - 18s 3ms/step - loss: 0.0185 - accuracy: 0.9958 - val_loss: 0.0829 - val_accuracy: 0.9765\n",
      "Epoch 16/20\n",
      "6000/6000 [==============================] - 18s 3ms/step - loss: 0.0167 - accuracy: 0.9961 - val_loss: 0.0885 - val_accuracy: 0.9769\n",
      "Epoch 17/20\n",
      "6000/6000 [==============================] - 18s 3ms/step - loss: 0.0146 - accuracy: 0.9966 - val_loss: 0.0865 - val_accuracy: 0.9766\n",
      "Epoch 18/20\n",
      "6000/6000 [==============================] - 18s 3ms/step - loss: 0.0118 - accuracy: 0.9978 - val_loss: 0.0864 - val_accuracy: 0.9766\n",
      "Epoch 19/20\n",
      "6000/6000 [==============================] - 18s 3ms/step - loss: 0.0114 - accuracy: 0.9977 - val_loss: 0.0862 - val_accuracy: 0.9780\n",
      "Epoch 20/20\n",
      "6000/6000 [==============================] - 18s 3ms/step - loss: 0.0086 - accuracy: 0.9986 - val_loss: 0.0850 - val_accuracy: 0.9786\n"
     ]
    },
    {
     "name": "stderr",
     "output_type": "stream",
     "text": [
      "2023/09/25 19:08:15 WARNING mlflow.tensorflow: Failed to infer model signature: could not sample data to infer model signature: tuple index out of range\n",
      "2023/09/25 19:08:15 WARNING mlflow.tensorflow: You are saving a TensorFlow Core model or Keras model without a signature. Inference with mlflow.pyfunc.spark_udf() will not work unless the model's pyfunc representation accepts pandas DataFrames as inference inputs.\n"
     ]
    },
    {
     "name": "stdout",
     "output_type": "stream",
     "text": [
      "INFO:tensorflow:Assets written to: C:\\Users\\jtole\\AppData\\Local\\Temp\\tmp38e0oio2\\model\\data\\model\\assets\n"
     ]
    },
    {
     "name": "stderr",
     "output_type": "stream",
     "text": [
      "INFO:tensorflow:Assets written to: C:\\Users\\jtole\\AppData\\Local\\Temp\\tmp38e0oio2\\model\\data\\model\\assets\n",
      "2023/09/25 19:08:29 WARNING mlflow.utils.autologging_utils: MLflow autologging encountered a warning: \"C:\\ProgramData\\anaconda3\\lib\\site-packages\\_distutils_hack\\__init__.py:33: UserWarning: Setuptools is replacing distutils.\"\n"
     ]
    },
    {
     "data": {
      "text/plain": [
       "<keras.src.callbacks.History at 0x24996734760>"
      ]
     },
     "execution_count": 7,
     "metadata": {},
     "output_type": "execute_result"
    }
   ],
   "source": [
    "# training model\n",
    "model.fit(x=x_train, y=y_train, validation_data=(x_test, y_test), batch_size=parameters['batch_size'], \n",
    "          epochs=parameters['epochs'], verbose=1)"
   ]
  },
  {
   "cell_type": "code",
   "execution_count": 10,
   "id": "75ec304c",
   "metadata": {},
   "outputs": [
    {
     "name": "stdout",
     "output_type": "stream",
     "text": [
      "313/313 [==============================] - 1s 3ms/step - loss: 0.0850 - accuracy: 0.9786\n"
     ]
    },
    {
     "data": {
      "text/plain": [
       "[0.08500901609659195, 0.978600025177002]"
      ]
     },
     "execution_count": 10,
     "metadata": {},
     "output_type": "execute_result"
    }
   ],
   "source": [
    "model.evaluate(x_test, y_test, verbose=1)"
   ]
  },
  {
   "cell_type": "code",
   "execution_count": 13,
   "id": "ca41690d",
   "metadata": {},
   "outputs": [],
   "source": [
    "model.save('sequentialBEST3.keras')"
   ]
  }
 ],
 "metadata": {
  "kernelspec": {
   "display_name": "Python 3 (ipykernel)",
   "language": "python",
   "name": "python3"
  },
  "language_info": {
   "codemirror_mode": {
    "name": "ipython",
    "version": 3
   },
   "file_extension": ".py",
   "mimetype": "text/x-python",
   "name": "python",
   "nbconvert_exporter": "python",
   "pygments_lexer": "ipython3",
   "version": "3.10.9"
  }
 },
 "nbformat": 4,
 "nbformat_minor": 5
}

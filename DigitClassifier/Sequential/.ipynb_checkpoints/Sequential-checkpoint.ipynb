{
 "cells": [
  {
   "cell_type": "code",
   "execution_count": 1,
   "id": "2688ca7a",
   "metadata": {},
   "outputs": [],
   "source": [
    "# mlflow tracking\n",
    "import mlflow\n",
    "mlflow.tensorflow.autolog()"
   ]
  },
  {
   "cell_type": "code",
   "execution_count": 2,
   "id": "bebb9679",
   "metadata": {},
   "outputs": [],
   "source": [
    "# ml libraries\n",
    "from tensorflow.keras.datasets import mnist\n",
    "from tensorflow.keras.models import Sequential\n",
    "from tensorflow.keras.layers import Flatten, Dense\n",
    "from tensorflow.keras.optimizers import SGD, Adam, RMSprop\n",
    "from tensorflow.keras.callbacks import ModelCheckpoint, EarlyStopping"
   ]
  },
  {
   "cell_type": "code",
   "execution_count": 3,
   "id": "9ae85cdc",
   "metadata": {},
   "outputs": [],
   "source": [
    "# parameters\n",
    "parameters = {\n",
    "    'learning_rate':0.1,\n",
    "    'momentum':0.1,\n",
    "    'beta1':0.5,\n",
    "    'beta2':0.5,\n",
    "    'epochs':20,\n",
    "    'batch_size':10,\n",
    "    'loss':'sparse_categorical_crossentropy'\n",
    "             }"
   ]
  },
  {
   "cell_type": "code",
   "execution_count": 4,
   "id": "c0127da4",
   "metadata": {},
   "outputs": [],
   "source": [
    "# defining train and test data from mnist dataset\n",
    "(x_train, y_train), (x_test, y_test) = mnist.load_data()\n",
    "x_train = x_train.reshape(60000, 28, 28)\n",
    "x_test = x_test.reshape(10000, 28, 28)\n",
    "\n",
    "x_train, x_test = x_train/225, x_test/225"
   ]
  },
  {
   "cell_type": "code",
   "execution_count": 5,
   "id": "6ba2f8f0",
   "metadata": {},
   "outputs": [
    {
     "name": "stdout",
     "output_type": "stream",
     "text": [
      "Model: \"sequential\"\n",
      "_________________________________________________________________\n",
      " Layer (type)                Output Shape              Param #   \n",
      "=================================================================\n",
      " flatten (Flatten)           (None, 784)               0         \n",
      "                                                                 \n",
      " dense (Dense)               (None, 30)                23550     \n",
      "                                                                 \n",
      " dense_1 (Dense)             (None, 10)                310       \n",
      "                                                                 \n",
      " dense_2 (Dense)             (None, 10)                110       \n",
      "                                                                 \n",
      "=================================================================\n",
      "Total params: 23970 (93.63 KB)\n",
      "Trainable params: 23970 (93.63 KB)\n",
      "Non-trainable params: 0 (0.00 Byte)\n",
      "_________________________________________________________________\n"
     ]
    }
   ],
   "source": [
    "# model body\n",
    "model = Sequential()\n",
    "model.add(Flatten(input_shape=(28, 28)))\n",
    "model.add(Dense(30, activation='relu'))\n",
    "model.add(Dense(10, activation='relu'))\n",
    "model.add(Dense(10, activation='softmax'))\n",
    "\n",
    "model.summary()"
   ]
  },
  {
   "cell_type": "code",
   "execution_count": 6,
   "id": "0d024a44",
   "metadata": {},
   "outputs": [],
   "source": [
    "# compiling model\n",
    "SGDM = SGD(learning_rate=parameters['learning_rate'])\n",
    "model.compile(optimizer=SGDM, loss=parameters['loss'], metrics=['accuracy'])"
   ]
  },
  {
   "cell_type": "code",
   "execution_count": 7,
   "id": "c3d38263",
   "metadata": {},
   "outputs": [
    {
     "name": "stderr",
     "output_type": "stream",
     "text": [
      "2023/09/25 17:36:50 INFO mlflow.utils.autologging_utils: Created MLflow autologging run with ID 'd1b10052584e48e7aef2b1da7c073f3c', which will track hyperparameters, performance metrics, model artifacts, and lineage information for the current tensorflow workflow\n"
     ]
    },
    {
     "name": "stdout",
     "output_type": "stream",
     "text": [
      "Epoch 1/20\n",
      "   1/6000 [..............................] - ETA: 1:02:07 - loss: 2.3588 - accuracy: 0.1000WARNING:tensorflow:Callback method `on_train_batch_end` is slow compared to the batch time (batch time: 0.0018s vs `on_train_batch_end` time: 0.0023s). Check your callbacks.\n",
      "6000/6000 [==============================] - 17s 3ms/step - loss: 0.3268 - accuracy: 0.9010 - val_loss: 0.2017 - val_accuracy: 0.9385\n",
      "Epoch 2/20\n",
      "6000/6000 [==============================] - 16s 3ms/step - loss: 0.1875 - accuracy: 0.9454 - val_loss: 0.2309 - val_accuracy: 0.9328\n",
      "Epoch 3/20\n",
      "6000/6000 [==============================] - 15s 3ms/step - loss: 0.1581 - accuracy: 0.9538 - val_loss: 0.1725 - val_accuracy: 0.9482\n",
      "Epoch 4/20\n",
      "6000/6000 [==============================] - 16s 3ms/step - loss: 0.1438 - accuracy: 0.9582 - val_loss: 0.1764 - val_accuracy: 0.9510\n",
      "Epoch 5/20\n",
      "6000/6000 [==============================] - 16s 3ms/step - loss: 0.1321 - accuracy: 0.9609 - val_loss: 0.1568 - val_accuracy: 0.9559\n",
      "Epoch 6/20\n",
      "6000/6000 [==============================] - 16s 3ms/step - loss: 0.1253 - accuracy: 0.9632 - val_loss: 0.1524 - val_accuracy: 0.9595\n",
      "Epoch 7/20\n",
      "6000/6000 [==============================] - 16s 3ms/step - loss: 0.1176 - accuracy: 0.9655 - val_loss: 0.1671 - val_accuracy: 0.9540\n",
      "Epoch 8/20\n",
      "6000/6000 [==============================] - 16s 3ms/step - loss: 0.1133 - accuracy: 0.9676 - val_loss: 0.1408 - val_accuracy: 0.9632\n",
      "Epoch 9/20\n",
      "6000/6000 [==============================] - 16s 3ms/step - loss: 0.1069 - accuracy: 0.9686 - val_loss: 0.1623 - val_accuracy: 0.9558\n",
      "Epoch 10/20\n",
      "6000/6000 [==============================] - 16s 3ms/step - loss: 0.1062 - accuracy: 0.9690 - val_loss: 0.1549 - val_accuracy: 0.9611\n",
      "Epoch 11/20\n",
      "6000/6000 [==============================] - 16s 3ms/step - loss: 0.1010 - accuracy: 0.9701 - val_loss: 0.1483 - val_accuracy: 0.9636\n",
      "Epoch 12/20\n",
      "6000/6000 [==============================] - 16s 3ms/step - loss: 0.0990 - accuracy: 0.9710 - val_loss: 0.1300 - val_accuracy: 0.9648\n",
      "Epoch 13/20\n",
      "6000/6000 [==============================] - 16s 3ms/step - loss: 0.0947 - accuracy: 0.9727 - val_loss: 0.1417 - val_accuracy: 0.9634\n",
      "Epoch 14/20\n",
      "6000/6000 [==============================] - 16s 3ms/step - loss: 0.0949 - accuracy: 0.9719 - val_loss: 0.1435 - val_accuracy: 0.9632\n",
      "Epoch 15/20\n",
      "6000/6000 [==============================] - 16s 3ms/step - loss: 0.0888 - accuracy: 0.9740 - val_loss: 0.1532 - val_accuracy: 0.9599\n",
      "Epoch 16/20\n",
      "6000/6000 [==============================] - 16s 3ms/step - loss: 0.0925 - accuracy: 0.9726 - val_loss: 0.1544 - val_accuracy: 0.9613\n",
      "Epoch 17/20\n",
      "6000/6000 [==============================] - 16s 3ms/step - loss: 0.0876 - accuracy: 0.9743 - val_loss: 0.1548 - val_accuracy: 0.9599\n",
      "Epoch 18/20\n",
      "6000/6000 [==============================] - 16s 3ms/step - loss: 0.0835 - accuracy: 0.9745 - val_loss: 0.1382 - val_accuracy: 0.9653\n",
      "Epoch 19/20\n",
      "6000/6000 [==============================] - 16s 3ms/step - loss: 0.0827 - accuracy: 0.9757 - val_loss: 0.1497 - val_accuracy: 0.9618\n",
      "Epoch 20/20\n",
      "6000/6000 [==============================] - 16s 3ms/step - loss: 0.0830 - accuracy: 0.9755 - val_loss: 0.1540 - val_accuracy: 0.9626\n"
     ]
    },
    {
     "name": "stderr",
     "output_type": "stream",
     "text": [
      "2023/09/25 17:42:09 WARNING mlflow.tensorflow: Failed to infer model signature: could not sample data to infer model signature: tuple index out of range\n",
      "2023/09/25 17:42:09 WARNING mlflow.tensorflow: You are saving a TensorFlow Core model or Keras model without a signature. Inference with mlflow.pyfunc.spark_udf() will not work unless the model's pyfunc representation accepts pandas DataFrames as inference inputs.\n"
     ]
    },
    {
     "name": "stdout",
     "output_type": "stream",
     "text": [
      "INFO:tensorflow:Assets written to: C:\\Users\\jtole\\AppData\\Local\\Temp\\tmp8zmvn0qp\\model\\data\\model\\assets\n"
     ]
    },
    {
     "name": "stderr",
     "output_type": "stream",
     "text": [
      "INFO:tensorflow:Assets written to: C:\\Users\\jtole\\AppData\\Local\\Temp\\tmp8zmvn0qp\\model\\data\\model\\assets\n",
      "2023/09/25 17:42:28 WARNING mlflow.utils.autologging_utils: MLflow autologging encountered a warning: \"C:\\ProgramData\\anaconda3\\lib\\site-packages\\_distutils_hack\\__init__.py:33: UserWarning: Setuptools is replacing distutils.\"\n"
     ]
    },
    {
     "data": {
      "text/plain": [
       "<keras.src.callbacks.History at 0x2202bf080d0>"
      ]
     },
     "execution_count": 7,
     "metadata": {},
     "output_type": "execute_result"
    }
   ],
   "source": [
    "# training model\n",
    "model.fit(x=x_train, y=y_train, validation_data=(x_test, y_test), batch_size=parameters['batch_size'], \n",
    "          epochs=parameters['epochs'], verbose=1)"
   ]
  },
  {
   "cell_type": "code",
   "execution_count": 8,
   "id": "75ec304c",
   "metadata": {},
   "outputs": [
    {
     "name": "stdout",
     "output_type": "stream",
     "text": [
      "313/313 [==============================] - 1s 2ms/step - loss: 0.1540 - accuracy: 0.9626\n"
     ]
    },
    {
     "data": {
      "text/plain": [
       "[0.15395432710647583, 0.9625999927520752]"
      ]
     },
     "execution_count": 8,
     "metadata": {},
     "output_type": "execute_result"
    }
   ],
   "source": [
    "model.evaluate(x_test, y_test, verbose=1)"
   ]
  },
  {
   "cell_type": "code",
   "execution_count": 9,
   "id": "ca41690d",
   "metadata": {},
   "outputs": [],
   "source": [
    "model.save('sequentialBEST2.keras')"
   ]
  }
 ],
 "metadata": {
  "kernelspec": {
   "display_name": "Python 3 (ipykernel)",
   "language": "python",
   "name": "python3"
  },
  "language_info": {
   "codemirror_mode": {
    "name": "ipython",
    "version": 3
   },
   "file_extension": ".py",
   "mimetype": "text/x-python",
   "name": "python",
   "nbconvert_exporter": "python",
   "pygments_lexer": "ipython3",
   "version": "3.10.9"
  }
 },
 "nbformat": 4,
 "nbformat_minor": 5
}

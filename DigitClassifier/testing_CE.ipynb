{
 "cells": [
  {
   "cell_type": "markdown",
   "id": "b363af58",
   "metadata": {},
   "source": [
    "### Modules "
   ]
  },
  {
   "cell_type": "code",
   "execution_count": 1,
   "id": "e5e3c438",
   "metadata": {},
   "outputs": [],
   "source": [
    "import import_ipynb  # import_ipynb allows importing external jupyter notebooks as modules"
   ]
  },
  {
   "cell_type": "code",
   "execution_count": 2,
   "id": "22abb54a",
   "metadata": {},
   "outputs": [
    {
     "name": "stdout",
     "output_type": "stream",
     "text": [
      "importing Jupyter notebook from mnist_loader.ipynb\n",
      "importing Jupyter notebook from network_CE.ipynb\n"
     ]
    }
   ],
   "source": [
    "import mnist_loader  # module that loads the database\n",
    "import network_CE   # module that defines ANN, SGD, and Backpropagation algorithm\n",
    "import pickle        # module used for serialization of the images"
   ]
  },
  {
   "cell_type": "markdown",
   "id": "11d0c977",
   "metadata": {},
   "source": [
    "### Load of training, test and validation data from mnist database"
   ]
  },
  {
   "cell_type": "code",
   "execution_count": 18,
   "id": "f73c1287",
   "metadata": {},
   "outputs": [],
   "source": [
    "training_data, validation_data, test_data = mnist_loader.load_data_wrapper() \n",
    "training_data = list(training_data)"
   ]
  },
  {
   "cell_type": "markdown",
   "id": "015b208f",
   "metadata": {},
   "source": [
    "### Example of a network"
   ]
  },
  {
   "cell_type": "code",
   "execution_count": 19,
   "id": "be741485",
   "metadata": {},
   "outputs": [
    {
     "name": "stdout",
     "output_type": "stream",
     "text": [
      "Epoch 0 : 3108 / 10000\n",
      "Epoch 1 : 3105 / 10000\n",
      "Epoch 2 : 3160 / 10000\n",
      "Epoch 3 : 3044 / 10000\n",
      "Epoch 4 : 3087 / 10000\n",
      "Epoch 5 : 3008 / 10000\n",
      "Epoch 6 : 3064 / 10000\n",
      "Epoch 7 : 3062 / 10000\n",
      "Epoch 8 : 3024 / 10000\n",
      "Epoch 9 : 3029 / 10000\n",
      "Epoch 10 : 3095 / 10000\n",
      "Epoch 11 : 3070 / 10000\n",
      "Epoch 12 : 3133 / 10000\n",
      "Epoch 13 : 3040 / 10000\n",
      "Epoch 14 : 3154 / 10000\n",
      "Epoch 15 : 3175 / 10000\n",
      "Epoch 16 : 3017 / 10000\n",
      "Epoch 17 : 3038 / 10000\n",
      "Epoch 18 : 3046 / 10000\n",
      "Epoch 19 : 3021 / 10000\n",
      "Epoch 20 : 3094 / 10000\n",
      "Epoch 21 : 3038 / 10000\n",
      "Epoch 22 : 3111 / 10000\n",
      "Epoch 23 : 3154 / 10000\n",
      "Epoch 24 : 3134 / 10000\n",
      "Epoch 25 : 3160 / 10000\n",
      "Epoch 26 : 3131 / 10000\n",
      "Epoch 27 : 3028 / 10000\n",
      "Epoch 28 : 3045 / 10000\n",
      "Epoch 29 : 3176 / 10000\n"
     ]
    }
   ],
   "source": [
    "# initialization of a 3 layer network; 784 entries in input layer, 30 neurons in hidden layer and 10 neurons in output layer\n",
    "net = network_CE.Network([784, 30, 10])\n",
    "\n",
    "# training of the network with 30 epochs, mini-batch's of size 10, learning rate = 0.8 and beta=0.1\n",
    "net.SGDM(training_data, 30, 10, 0.8, 0.1, test_data=test_data)"
   ]
  },
  {
   "cell_type": "code",
   "execution_count": null,
   "id": "4b7f09aa",
   "metadata": {},
   "outputs": [],
   "source": [
    "with open('my-net.pkl', 'wb') as file1:  # save parameters w and b\n",
    "    pickle.dump(net, file1)\n",
    "\n",
    "file1 = open('my-net', 'rb')         # load parameters\n",
    "net2 = pickle.load(file2)\n",
    "\n",
    "# a = flatten(image)\n",
    "# result = net.feeddforward(a)"
   ]
  }
 ],
 "metadata": {
  "kernelspec": {
   "display_name": "Python 3 (ipykernel)",
   "language": "python",
   "name": "python3"
  },
  "language_info": {
   "codemirror_mode": {
    "name": "ipython",
    "version": 3
   },
   "file_extension": ".py",
   "mimetype": "text/x-python",
   "name": "python",
   "nbconvert_exporter": "python",
   "pygments_lexer": "ipython3",
   "version": "3.10.9"
  }
 },
 "nbformat": 4,
 "nbformat_minor": 5
}

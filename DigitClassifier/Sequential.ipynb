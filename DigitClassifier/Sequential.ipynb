{
 "cells": [
  {
   "cell_type": "code",
   "execution_count": 1,
   "id": "2688ca7a",
   "metadata": {},
   "outputs": [],
   "source": [
    "# required libraries\n",
    "from tensorflow.keras.datasets import mnist\n",
    "from tensorflow.keras.models import Sequential\n",
    "from tensorflow.keras.layers import Flatten, Dense\n",
    "from tensorflow.keras.optimizers import SGD"
   ]
  },
  {
   "cell_type": "code",
   "execution_count": 2,
   "id": "9ae85cdc",
   "metadata": {},
   "outputs": [],
   "source": [
    "# parameters\n",
    "lr = 0.8\n",
    "eps = 20\n",
    "bs = 10\n",
    "m = 0.1"
   ]
  },
  {
   "cell_type": "code",
   "execution_count": 3,
   "id": "c0127da4",
   "metadata": {},
   "outputs": [],
   "source": [
    "# defining train and test data from mnist dataset\n",
    "(x_train, y_train), (x_test, y_test) = mnist.load_data()\n",
    "x_train, x_test = x_train/225, x_test/225"
   ]
  },
  {
   "cell_type": "code",
   "execution_count": 4,
   "id": "6ba2f8f0",
   "metadata": {},
   "outputs": [
    {
     "name": "stdout",
     "output_type": "stream",
     "text": [
      "Model: \"sequential\"\n",
      "_________________________________________________________________\n",
      " Layer (type)                Output Shape              Param #   \n",
      "=================================================================\n",
      " flatten (Flatten)           (None, 784)               0         \n",
      "                                                                 \n",
      " dense (Dense)               (None, 30)                23550     \n",
      "                                                                 \n",
      " dense_1 (Dense)             (None, 10)                310       \n",
      "                                                                 \n",
      " dense_2 (Dense)             (None, 10)                110       \n",
      "                                                                 \n",
      "=================================================================\n",
      "Total params: 23970 (93.63 KB)\n",
      "Trainable params: 23970 (93.63 KB)\n",
      "Non-trainable params: 0 (0.00 Byte)\n",
      "_________________________________________________________________\n"
     ]
    }
   ],
   "source": [
    "# model body\n",
    "model = Sequential()\n",
    "\n",
    "model.add(Flatten(input_shape=(28, 28)))\n",
    "model.add(Dense(30, activation='sigmoid'))\n",
    "model.add(Dense(10, activation='sigmoid'))\n",
    "model.add(Dense(10, activation='softmax'))\n",
    "\n",
    "model.summary()"
   ]
  },
  {
   "cell_type": "code",
   "execution_count": 5,
   "id": "0d024a44",
   "metadata": {},
   "outputs": [],
   "source": [
    "# compiling model\n",
    "SGDM = SGD(learning_rate=lr, momentum=m)\n",
    "model.compile(optimizer=SGDM, loss='sparse_categorical_crossentropy', metrics=['accuracy'])"
   ]
  },
  {
   "cell_type": "code",
   "execution_count": 6,
   "id": "c3d38263",
   "metadata": {},
   "outputs": [
    {
     "name": "stdout",
     "output_type": "stream",
     "text": [
      "Epoch 1/20\n",
      "6000/6000 [==============================] - 13s 2ms/step - loss: 0.3831 - accuracy: 0.8854\n",
      "Epoch 2/20\n",
      "6000/6000 [==============================] - 12s 2ms/step - loss: 0.2438 - accuracy: 0.9298\n",
      "Epoch 3/20\n",
      "6000/6000 [==============================] - 12s 2ms/step - loss: 0.2134 - accuracy: 0.9387\n",
      "Epoch 4/20\n",
      "6000/6000 [==============================] - 12s 2ms/step - loss: 0.2036 - accuracy: 0.9403\n",
      "Epoch 5/20\n",
      "6000/6000 [==============================] - 12s 2ms/step - loss: 0.1899 - accuracy: 0.9456\n",
      "Epoch 6/20\n",
      "6000/6000 [==============================] - 12s 2ms/step - loss: 0.1804 - accuracy: 0.9483\n",
      "Epoch 7/20\n",
      "6000/6000 [==============================] - 12s 2ms/step - loss: 0.1732 - accuracy: 0.9510\n",
      "Epoch 8/20\n",
      "6000/6000 [==============================] - 12s 2ms/step - loss: 0.1674 - accuracy: 0.9517\n",
      "Epoch 9/20\n",
      "6000/6000 [==============================] - 12s 2ms/step - loss: 0.1585 - accuracy: 0.9532\n",
      "Epoch 10/20\n",
      "6000/6000 [==============================] - 12s 2ms/step - loss: 0.1587 - accuracy: 0.9544\n",
      "Epoch 11/20\n",
      "6000/6000 [==============================] - 12s 2ms/step - loss: 0.1543 - accuracy: 0.9557\n",
      "Epoch 12/20\n",
      "6000/6000 [==============================] - 12s 2ms/step - loss: 0.1490 - accuracy: 0.9568\n",
      "Epoch 13/20\n",
      "6000/6000 [==============================] - 12s 2ms/step - loss: 0.1488 - accuracy: 0.9573\n",
      "Epoch 14/20\n",
      "6000/6000 [==============================] - 12s 2ms/step - loss: 0.1453 - accuracy: 0.9577\n",
      "Epoch 15/20\n",
      "6000/6000 [==============================] - 12s 2ms/step - loss: 0.1398 - accuracy: 0.9603\n",
      "Epoch 16/20\n",
      "6000/6000 [==============================] - 12s 2ms/step - loss: 0.1384 - accuracy: 0.9593\n",
      "Epoch 17/20\n",
      "6000/6000 [==============================] - 12s 2ms/step - loss: 0.1350 - accuracy: 0.9609\n",
      "Epoch 18/20\n",
      "6000/6000 [==============================] - 12s 2ms/step - loss: 0.1336 - accuracy: 0.9618\n",
      "Epoch 19/20\n",
      "6000/6000 [==============================] - 12s 2ms/step - loss: 0.1362 - accuracy: 0.9606\n",
      "Epoch 20/20\n",
      "6000/6000 [==============================] - 12s 2ms/step - loss: 0.1340 - accuracy: 0.9610\n"
     ]
    },
    {
     "data": {
      "text/plain": [
       "<keras.src.callbacks.History at 0x22c8e445150>"
      ]
     },
     "execution_count": 6,
     "metadata": {},
     "output_type": "execute_result"
    }
   ],
   "source": [
    "# training model\n",
    "model.fit(x=x_train, y=y_train, batch_size=bs, epochs=eps, verbose=1)"
   ]
  },
  {
   "cell_type": "code",
   "execution_count": 7,
   "id": "75ec304c",
   "metadata": {},
   "outputs": [
    {
     "name": "stdout",
     "output_type": "stream",
     "text": [
      "313/313 [==============================] - 1s 3ms/step - loss: 0.1730 - accuracy: 0.9522\n"
     ]
    },
    {
     "data": {
      "text/plain": [
       "[0.17297258973121643, 0.9521999955177307]"
      ]
     },
     "execution_count": 7,
     "metadata": {},
     "output_type": "execute_result"
    }
   ],
   "source": [
    "model.evaluate(x_test, y_test, verbose=1)"
   ]
  },
  {
   "cell_type": "code",
   "execution_count": 9,
   "id": "ca41690d",
   "metadata": {},
   "outputs": [],
   "source": [
    "model.save('sequentialModel.keras')"
   ]
  }
 ],
 "metadata": {
  "kernelspec": {
   "display_name": "Python 3 (ipykernel)",
   "language": "python",
   "name": "python3"
  },
  "language_info": {
   "codemirror_mode": {
    "name": "ipython",
    "version": 3
   },
   "file_extension": ".py",
   "mimetype": "text/x-python",
   "name": "python",
   "nbconvert_exporter": "python",
   "pygments_lexer": "ipython3",
   "version": "3.10.9"
  }
 },
 "nbformat": 4,
 "nbformat_minor": 5
}

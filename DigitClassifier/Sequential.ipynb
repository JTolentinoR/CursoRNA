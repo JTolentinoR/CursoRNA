{
 "cells": [
  {
   "cell_type": "code",
   "execution_count": 1,
   "id": "2688ca7a",
   "metadata": {},
   "outputs": [],
   "source": [
    "# mlflow tracking\n",
    "import mlflow\n",
    "mlflow.tensorflow.autolog()"
   ]
  },
  {
   "cell_type": "code",
   "execution_count": 2,
   "id": "bebb9679",
   "metadata": {},
   "outputs": [],
   "source": [
    "# ml libraries\n",
    "from tensorflow.keras.datasets import mnist\n",
    "from tensorflow.keras.models import Sequential\n",
    "from tensorflow.keras.layers import Flatten, Dense\n",
    "from tensorflow.keras.optimizers import SGD"
   ]
  },
  {
   "cell_type": "code",
   "execution_count": 5,
   "id": "9ae85cdc",
   "metadata": {},
   "outputs": [],
   "source": [
    "# parameters\n",
    "parameters = {\n",
    "    'learning_rate':0.5,\n",
    "    'momentum':0.1,\n",
    "    'epochs':20,\n",
    "    'batch_size':10,\n",
    "    'loss':'sparse_categorical_crossentropy'\n",
    "             }"
   ]
  },
  {
   "cell_type": "code",
   "execution_count": 6,
   "id": "c0127da4",
   "metadata": {},
   "outputs": [],
   "source": [
    "# defining train and test data from mnist dataset\n",
    "(x_train, y_train), (x_test, y_test) = mnist.load_data()\n",
    "x_train = x_train.reshape(60000, 28, 28)\n",
    "x_test = x_test.reshape(10000, 28, 28)\n",
    "\n",
    "x_train, x_test = x_train/225, x_test/225"
   ]
  },
  {
   "cell_type": "code",
   "execution_count": 7,
   "id": "6ba2f8f0",
   "metadata": {},
   "outputs": [
    {
     "name": "stdout",
     "output_type": "stream",
     "text": [
      "Model: \"sequential\"\n",
      "_________________________________________________________________\n",
      " Layer (type)                Output Shape              Param #   \n",
      "=================================================================\n",
      " flatten (Flatten)           (None, 784)               0         \n",
      "                                                                 \n",
      " dense (Dense)               (None, 100)               78500     \n",
      "                                                                 \n",
      " dense_1 (Dense)             (None, 30)                3030      \n",
      "                                                                 \n",
      " dense_2 (Dense)             (None, 10)                310       \n",
      "                                                                 \n",
      " dense_3 (Dense)             (None, 10)                110       \n",
      "                                                                 \n",
      "=================================================================\n",
      "Total params: 81950 (320.12 KB)\n",
      "Trainable params: 81950 (320.12 KB)\n",
      "Non-trainable params: 0 (0.00 Byte)\n",
      "_________________________________________________________________\n"
     ]
    }
   ],
   "source": [
    "# model body\n",
    "model = Sequential()\n",
    "model.add(Flatten(input_shape=(28, 28)))\n",
    "model.add(Dense(100, activation='sigmoid'))\n",
    "model.add(Dense(30, activation='sigmoid'))\n",
    "model.add(Dense(10, activation='sigmoid'))\n",
    "model.add(Dense(10, activation='softmax'))\n",
    "\n",
    "model.summary()"
   ]
  },
  {
   "cell_type": "code",
   "execution_count": 8,
   "id": "0d024a44",
   "metadata": {},
   "outputs": [],
   "source": [
    "# compiling model\n",
    "SGDM = SGD(learning_rate=parameters['learning_rate'], momentum=parameters['momentum'])\n",
    "model.compile(optimizer=SGDM, loss=parameters['loss'], metrics=['accuracy'])"
   ]
  },
  {
   "cell_type": "code",
   "execution_count": 9,
   "id": "c3d38263",
   "metadata": {},
   "outputs": [
    {
     "name": "stderr",
     "output_type": "stream",
     "text": [
      "2023/09/25 16:24:22 INFO mlflow.utils.autologging_utils: Created MLflow autologging run with ID '6999d17292db4922b92c12d048e8dd2a', which will track hyperparameters, performance metrics, model artifacts, and lineage information for the current tensorflow workflow\n"
     ]
    },
    {
     "name": "stdout",
     "output_type": "stream",
     "text": [
      "Epoch 1/20\n",
      "   1/6000 [..............................] - ETA: 53:38 - loss: 2.3235 - accuracy: 0.2000WARNING:tensorflow:Callback method `on_train_batch_end` is slow compared to the batch time (batch time: 0.0015s vs `on_train_batch_end` time: 0.0022s). Check your callbacks.\n",
      "6000/6000 [==============================] - 14s 2ms/step - loss: 0.4414 - accuracy: 0.8600 - val_loss: 0.2062 - val_accuracy: 0.9393\n",
      "Epoch 2/20\n",
      "6000/6000 [==============================] - 14s 2ms/step - loss: 0.1578 - accuracy: 0.9549 - val_loss: 0.1864 - val_accuracy: 0.9474\n",
      "Epoch 3/20\n",
      "6000/6000 [==============================] - 14s 2ms/step - loss: 0.1161 - accuracy: 0.9662 - val_loss: 0.1184 - val_accuracy: 0.9653\n",
      "Epoch 4/20\n",
      "6000/6000 [==============================] - 14s 2ms/step - loss: 0.0944 - accuracy: 0.9719 - val_loss: 0.1423 - val_accuracy: 0.9593\n",
      "Epoch 5/20\n",
      "6000/6000 [==============================] - 14s 2ms/step - loss: 0.0820 - accuracy: 0.9760 - val_loss: 0.1250 - val_accuracy: 0.9640\n",
      "Epoch 6/20\n",
      "6000/6000 [==============================] - 13s 2ms/step - loss: 0.0707 - accuracy: 0.9785 - val_loss: 0.1273 - val_accuracy: 0.9643\n",
      "Epoch 7/20\n",
      "6000/6000 [==============================] - 14s 2ms/step - loss: 0.0625 - accuracy: 0.9814 - val_loss: 0.1113 - val_accuracy: 0.9693\n",
      "Epoch 8/20\n",
      "6000/6000 [==============================] - 13s 2ms/step - loss: 0.0555 - accuracy: 0.9836 - val_loss: 0.1152 - val_accuracy: 0.9692\n",
      "Epoch 9/20\n",
      "6000/6000 [==============================] - 13s 2ms/step - loss: 0.0527 - accuracy: 0.9839 - val_loss: 0.1066 - val_accuracy: 0.9714\n",
      "Epoch 10/20\n",
      "6000/6000 [==============================] - 14s 2ms/step - loss: 0.0470 - accuracy: 0.9854 - val_loss: 0.1436 - val_accuracy: 0.9605\n",
      "Epoch 11/20\n",
      "6000/6000 [==============================] - 14s 2ms/step - loss: 0.0418 - accuracy: 0.9873 - val_loss: 0.1025 - val_accuracy: 0.9730\n",
      "Epoch 12/20\n",
      "6000/6000 [==============================] - 13s 2ms/step - loss: 0.0383 - accuracy: 0.9886 - val_loss: 0.1182 - val_accuracy: 0.9690\n",
      "Epoch 13/20\n",
      "6000/6000 [==============================] - 14s 2ms/step - loss: 0.0365 - accuracy: 0.9890 - val_loss: 0.1285 - val_accuracy: 0.9677\n",
      "Epoch 14/20\n",
      "6000/6000 [==============================] - 13s 2ms/step - loss: 0.0324 - accuracy: 0.9903 - val_loss: 0.1142 - val_accuracy: 0.9729\n",
      "Epoch 15/20\n",
      "6000/6000 [==============================] - 14s 2ms/step - loss: 0.0311 - accuracy: 0.9905 - val_loss: 0.1202 - val_accuracy: 0.9714\n",
      "Epoch 16/20\n",
      "6000/6000 [==============================] - 15s 3ms/step - loss: 0.0330 - accuracy: 0.9898 - val_loss: 0.1053 - val_accuracy: 0.9739\n",
      "Epoch 17/20\n",
      "6000/6000 [==============================] - 17s 3ms/step - loss: 0.0308 - accuracy: 0.9906 - val_loss: 0.1282 - val_accuracy: 0.9708\n",
      "Epoch 18/20\n",
      "6000/6000 [==============================] - 16s 3ms/step - loss: 0.0319 - accuracy: 0.9900 - val_loss: 0.1091 - val_accuracy: 0.9737\n",
      "Epoch 19/20\n",
      "6000/6000 [==============================] - 14s 2ms/step - loss: 0.0240 - accuracy: 0.9923 - val_loss: 0.1207 - val_accuracy: 0.9713\n",
      "Epoch 20/20\n",
      "6000/6000 [==============================] - 14s 2ms/step - loss: 0.0207 - accuracy: 0.9936 - val_loss: 0.1527 - val_accuracy: 0.9645\n"
     ]
    },
    {
     "name": "stderr",
     "output_type": "stream",
     "text": [
      "2023/09/25 16:29:04 WARNING mlflow.tensorflow: Failed to infer model signature: could not sample data to infer model signature: tuple index out of range\n",
      "2023/09/25 16:29:04 WARNING mlflow.tensorflow: You are saving a TensorFlow Core model or Keras model without a signature. Inference with mlflow.pyfunc.spark_udf() will not work unless the model's pyfunc representation accepts pandas DataFrames as inference inputs.\n"
     ]
    },
    {
     "name": "stdout",
     "output_type": "stream",
     "text": [
      "INFO:tensorflow:Assets written to: C:\\Users\\jtole\\AppData\\Local\\Temp\\tmpb8kpt3c4\\model\\data\\model\\assets\n"
     ]
    },
    {
     "name": "stderr",
     "output_type": "stream",
     "text": [
      "INFO:tensorflow:Assets written to: C:\\Users\\jtole\\AppData\\Local\\Temp\\tmpb8kpt3c4\\model\\data\\model\\assets\n",
      "2023/09/25 16:29:15 WARNING mlflow.utils.autologging_utils: MLflow autologging encountered a warning: \"C:\\ProgramData\\anaconda3\\lib\\site-packages\\_distutils_hack\\__init__.py:33: UserWarning: Setuptools is replacing distutils.\"\n"
     ]
    },
    {
     "data": {
      "text/plain": [
       "<keras.src.callbacks.History at 0x26706783c40>"
      ]
     },
     "execution_count": 9,
     "metadata": {},
     "output_type": "execute_result"
    }
   ],
   "source": [
    "# training model\n",
    "model.fit(x=x_train, y=y_train, validation_data=(x_test, y_test), batch_size=parameters['batch_size'], \n",
    "          epochs=parameters['epochs'], verbose=1)"
   ]
  },
  {
   "cell_type": "code",
   "execution_count": 10,
   "id": "75ec304c",
   "metadata": {},
   "outputs": [
    {
     "name": "stdout",
     "output_type": "stream",
     "text": [
      "313/313 [==============================] - 1s 2ms/step - loss: 0.1527 - accuracy: 0.9645\n"
     ]
    },
    {
     "data": {
      "text/plain": [
       "[0.15268653631210327, 0.9645000100135803]"
      ]
     },
     "execution_count": 10,
     "metadata": {},
     "output_type": "execute_result"
    }
   ],
   "source": [
    "model.evaluate(x_test, y_test, verbose=1)"
   ]
  },
  {
   "cell_type": "code",
   "execution_count": 11,
   "id": "ca41690d",
   "metadata": {},
   "outputs": [],
   "source": [
    "model.save('sequentialBEST.keras')"
   ]
  }
 ],
 "metadata": {
  "kernelspec": {
   "display_name": "Python 3 (ipykernel)",
   "language": "python",
   "name": "python3"
  },
  "language_info": {
   "codemirror_mode": {
    "name": "ipython",
    "version": 3
   },
   "file_extension": ".py",
   "mimetype": "text/x-python",
   "name": "python",
   "nbconvert_exporter": "python",
   "pygments_lexer": "ipython3",
   "version": "3.10.9"
  }
 },
 "nbformat": 4,
 "nbformat_minor": 5
}

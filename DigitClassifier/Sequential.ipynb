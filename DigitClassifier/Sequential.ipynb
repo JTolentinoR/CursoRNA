{
 "cells": [
  {
   "cell_type": "code",
   "execution_count": 1,
   "id": "2688ca7a",
   "metadata": {},
   "outputs": [
    {
     "name": "stderr",
     "output_type": "stream",
     "text": [
      "2023-09-25 14:07:13.850772: I tensorflow/tsl/cuda/cudart_stub.cc:28] Could not find cuda drivers on your machine, GPU will not be used.\n",
      "2023-09-25 14:07:13.880690: I tensorflow/tsl/cuda/cudart_stub.cc:28] Could not find cuda drivers on your machine, GPU will not be used.\n",
      "2023-09-25 14:07:13.881287: I tensorflow/core/platform/cpu_feature_guard.cc:182] This TensorFlow binary is optimized to use available CPU instructions in performance-critical operations.\n",
      "To enable the following instructions: AVX2 FMA, in other operations, rebuild TensorFlow with the appropriate compiler flags.\n",
      "2023-09-25 14:07:14.513793: W tensorflow/compiler/tf2tensorrt/utils/py_utils.cc:38] TF-TRT Warning: Could not find TensorRT\n",
      "/home/jtolentino/anaconda3/lib/python3.9/site-packages/scipy/__init__.py:146: UserWarning: A NumPy version >=1.16.5 and <1.23.0 is required for this version of SciPy (detected version 1.24.3\n",
      "  warnings.warn(f\"A NumPy version >={np_minversion} and <{np_maxversion}\"\n"
     ]
    }
   ],
   "source": [
    "# required libraries\n",
    "from tensorflow.keras.datasets import mnist\n",
    "from tensorflow.keras.models import Sequential\n",
    "from tensorflow.keras.layers import Flatten, Dense\n",
    "from tensorflow.keras.optimizers import SGD"
   ]
  },
  {
   "cell_type": "code",
   "execution_count": 6,
   "id": "9ae85cdc",
   "metadata": {},
   "outputs": [],
   "source": [
    "# parameters\n",
    "lr = 0.5\n",
    "eps = 20\n",
    "bs = 10\n",
    "m = 0.1"
   ]
  },
  {
   "cell_type": "code",
   "execution_count": 7,
   "id": "c0127da4",
   "metadata": {},
   "outputs": [],
   "source": [
    "# defining train and test data from mnist dataset\n",
    "(x_train, y_train), (x_test, y_test) = mnist.load_data()\n",
    "x_train, x_test = x_train/225, x_test/225"
   ]
  },
  {
   "cell_type": "code",
   "execution_count": 8,
   "id": "6ba2f8f0",
   "metadata": {},
   "outputs": [
    {
     "name": "stdout",
     "output_type": "stream",
     "text": [
      "Model: \"sequential_1\"\n",
      "_________________________________________________________________\n",
      " Layer (type)                Output Shape              Param #   \n",
      "=================================================================\n",
      " flatten_1 (Flatten)         (None, 784)               0         \n",
      "                                                                 \n",
      " dense_4 (Dense)             (None, 100)               78500     \n",
      "                                                                 \n",
      " dense_5 (Dense)             (None, 30)                3030      \n",
      "                                                                 \n",
      " dense_6 (Dense)             (None, 10)                310       \n",
      "                                                                 \n",
      " dense_7 (Dense)             (None, 10)                110       \n",
      "                                                                 \n",
      "=================================================================\n",
      "Total params: 81950 (320.12 KB)\n",
      "Trainable params: 81950 (320.12 KB)\n",
      "Non-trainable params: 0 (0.00 Byte)\n",
      "_________________________________________________________________\n"
     ]
    }
   ],
   "source": [
    "# model body\n",
    "model = Sequential()\n",
    "\n",
    "model.add(Flatten(input_shape=(28, 28)))\n",
    "model.add(Dense(100, activation='sigmoid'))\n",
    "model.add(Dense(30, activation='sigmoid'))\n",
    "model.add(Dense(10, activation='sigmoid'))\n",
    "model.add(Dense(10, activation='softmax'))\n",
    "\n",
    "model.summary()"
   ]
  },
  {
   "cell_type": "code",
   "execution_count": 9,
   "id": "0d024a44",
   "metadata": {},
   "outputs": [],
   "source": [
    "# compiling model\n",
    "SGDM = SGD(learning_rate=lr, momentum=m)\n",
    "model.compile(optimizer=SGDM, loss='sparse_categorical_crossentropy', metrics=['accuracy'])"
   ]
  },
  {
   "cell_type": "code",
   "execution_count": 10,
   "id": "c3d38263",
   "metadata": {},
   "outputs": [
    {
     "name": "stdout",
     "output_type": "stream",
     "text": [
      "Epoch 1/20\n",
      "6000/6000 [==============================] - 10s 2ms/step - loss: 0.4446 - accuracy: 0.8562\n",
      "Epoch 2/20\n",
      "6000/6000 [==============================] - 9s 2ms/step - loss: 0.1586 - accuracy: 0.9541\n",
      "Epoch 3/20\n",
      "6000/6000 [==============================] - 9s 2ms/step - loss: 0.1173 - accuracy: 0.9661\n",
      "Epoch 4/20\n",
      "6000/6000 [==============================] - 9s 2ms/step - loss: 0.0977 - accuracy: 0.9717\n",
      "Epoch 5/20\n",
      "6000/6000 [==============================] - 9s 2ms/step - loss: 0.0816 - accuracy: 0.9763\n",
      "Epoch 6/20\n",
      "6000/6000 [==============================] - 9s 2ms/step - loss: 0.0717 - accuracy: 0.9789\n",
      "Epoch 7/20\n",
      "6000/6000 [==============================] - 9s 2ms/step - loss: 0.0644 - accuracy: 0.9812\n",
      "Epoch 8/20\n",
      "6000/6000 [==============================] - 9s 2ms/step - loss: 0.0553 - accuracy: 0.9834\n",
      "Epoch 9/20\n",
      "6000/6000 [==============================] - 9s 2ms/step - loss: 0.0539 - accuracy: 0.9835\n",
      "Epoch 10/20\n",
      "6000/6000 [==============================] - 9s 2ms/step - loss: 0.0482 - accuracy: 0.9862\n",
      "Epoch 11/20\n",
      "6000/6000 [==============================] - 9s 2ms/step - loss: 0.0451 - accuracy: 0.9865\n",
      "Epoch 12/20\n",
      "6000/6000 [==============================] - 10s 2ms/step - loss: 0.0399 - accuracy: 0.9880\n",
      "Epoch 13/20\n",
      "6000/6000 [==============================] - 9s 2ms/step - loss: 0.0398 - accuracy: 0.9884\n",
      "Epoch 14/20\n",
      "6000/6000 [==============================] - 9s 2ms/step - loss: 0.0342 - accuracy: 0.9897\n",
      "Epoch 15/20\n",
      "6000/6000 [==============================] - 9s 2ms/step - loss: 0.0324 - accuracy: 0.9904\n",
      "Epoch 16/20\n",
      "6000/6000 [==============================] - 10s 2ms/step - loss: 0.0319 - accuracy: 0.9905\n",
      "Epoch 17/20\n",
      "6000/6000 [==============================] - 9s 2ms/step - loss: 0.0284 - accuracy: 0.9918\n",
      "Epoch 18/20\n",
      "6000/6000 [==============================] - 9s 2ms/step - loss: 0.0235 - accuracy: 0.9929\n",
      "Epoch 19/20\n",
      "6000/6000 [==============================] - 9s 2ms/step - loss: 0.0243 - accuracy: 0.9928\n",
      "Epoch 20/20\n",
      "6000/6000 [==============================] - 9s 2ms/step - loss: 0.0220 - accuracy: 0.9933\n"
     ]
    },
    {
     "data": {
      "text/plain": [
       "<keras.src.callbacks.History at 0x7fc19c01c430>"
      ]
     },
     "execution_count": 10,
     "metadata": {},
     "output_type": "execute_result"
    }
   ],
   "source": [
    "# training model\n",
    "model.fit(x=x_train, y=y_train, batch_size=bs, epochs=eps, verbose=1)"
   ]
  },
  {
   "cell_type": "code",
   "execution_count": 11,
   "id": "75ec304c",
   "metadata": {},
   "outputs": [
    {
     "name": "stdout",
     "output_type": "stream",
     "text": [
      "313/313 [==============================] - 1s 1ms/step - loss: 0.1088 - accuracy: 0.9753\n"
     ]
    },
    {
     "data": {
      "text/plain": [
       "[0.10877857357263565, 0.9753000140190125]"
      ]
     },
     "execution_count": 11,
     "metadata": {},
     "output_type": "execute_result"
    }
   ],
   "source": [
    "model.evaluate(x_test, y_test, verbose=1)"
   ]
  },
  {
   "cell_type": "code",
   "execution_count": 14,
   "id": "ca41690d",
   "metadata": {},
   "outputs": [],
   "source": [
    "model.save('sequentialBEST.keras')"
   ]
  }
 ],
 "metadata": {
  "kernelspec": {
   "display_name": "Python 3 (ipykernel)",
   "language": "python",
   "name": "python3"
  },
  "language_info": {
   "codemirror_mode": {
    "name": "ipython",
    "version": 3
   },
   "file_extension": ".py",
   "mimetype": "text/x-python",
   "name": "python",
   "nbconvert_exporter": "python",
   "pygments_lexer": "ipython3",
   "version": "3.9.12"
  }
 },
 "nbformat": 4,
 "nbformat_minor": 5
}
